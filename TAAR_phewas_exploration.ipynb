{
 "cells": [
  {
   "cell_type": "code",
   "execution_count": 9,
   "metadata": {},
   "outputs": [],
   "source": [
    "import pandas as pd\n",
    "import numpy as np\n",
    "pd.set_option('display.max_rows', 100)\n",
    "pd.set_option('display.max_columns', 500)\n",
    "import plotly.graph_objects as go\n",
    "import plotly.io as pio\n",
    "pio.templates.default = 'simple_white'"
   ]
  },
  {
   "cell_type": "code",
   "execution_count": 2,
   "metadata": {},
   "outputs": [],
   "source": [
    "data=pd.read_csv('taar_phewas_consgenesymbols_minimal_harmonized.tsv', sep='\\t')"
   ]
  },
  {
   "cell_type": "code",
   "execution_count": 3,
   "metadata": {},
   "outputs": [],
   "source": [
    "data=data.sort_values('p', ascending=False)"
   ]
  },
  {
   "cell_type": "code",
   "execution_count": 4,
   "metadata": {},
   "outputs": [
    {
     "data": {
      "text/html": [
       "<div>\n",
       "<style scoped>\n",
       "    .dataframe tbody tr th:only-of-type {\n",
       "        vertical-align: middle;\n",
       "    }\n",
       "\n",
       "    .dataframe tbody tr th {\n",
       "        vertical-align: top;\n",
       "    }\n",
       "\n",
       "    .dataframe thead th {\n",
       "        text-align: right;\n",
       "    }\n",
       "</style>\n",
       "<table border=\"1\" class=\"dataframe\">\n",
       "  <thead>\n",
       "    <tr style=\"text-align: right;\">\n",
       "      <th></th>\n",
       "      <th>gs</th>\n",
       "      <th>rsid</th>\n",
       "      <th>ea</th>\n",
       "      <th>p</th>\n",
       "      <th>beta</th>\n",
       "      <th>se</th>\n",
       "      <th>trait</th>\n",
       "      <th>id</th>\n",
       "      <th>z</th>\n",
       "      <th>is_gene_trait</th>\n",
       "      <th>sample_size</th>\n",
       "      <th>population</th>\n",
       "      <th>subcategory</th>\n",
       "      <th>pmid</th>\n",
       "    </tr>\n",
       "  </thead>\n",
       "  <tbody>\n",
       "    <tr>\n",
       "      <th>209822</th>\n",
       "      <td>TAAR1</td>\n",
       "      <td>rs66672387</td>\n",
       "      <td>A</td>\n",
       "      <td>4.999650e-02</td>\n",
       "      <td>-0.000812</td>\n",
       "      <td>0.000414</td>\n",
       "      <td>Diagnoses - main ICD10: G47 Sleep disorders</td>\n",
       "      <td>ukb-a-527</td>\n",
       "      <td>1.959994</td>\n",
       "      <td>False</td>\n",
       "      <td>337199.0</td>\n",
       "      <td>European</td>\n",
       "      <td>NaN</td>\n",
       "      <td>NaN</td>\n",
       "    </tr>\n",
       "    <tr>\n",
       "      <th>209821</th>\n",
       "      <td>TAAR1</td>\n",
       "      <td>rs60038481</td>\n",
       "      <td>T</td>\n",
       "      <td>4.999650e-02</td>\n",
       "      <td>-0.006679</td>\n",
       "      <td>0.003408</td>\n",
       "      <td>Victim of physically violent crime</td>\n",
       "      <td>ukb-d-20529</td>\n",
       "      <td>1.959994</td>\n",
       "      <td>False</td>\n",
       "      <td>117846.0</td>\n",
       "      <td>European</td>\n",
       "      <td>NaN</td>\n",
       "      <td>NaN</td>\n",
       "    </tr>\n",
       "    <tr>\n",
       "      <th>209815</th>\n",
       "      <td>TAAR1</td>\n",
       "      <td>rs12660924</td>\n",
       "      <td>G</td>\n",
       "      <td>4.999190e-02</td>\n",
       "      <td>-0.016859</td>\n",
       "      <td>0.008601</td>\n",
       "      <td>aparc-a2009s_lh_thickness_G-pariet-inf-Supramar</td>\n",
       "      <td>ubm-b-1203</td>\n",
       "      <td>1.960033</td>\n",
       "      <td>False</td>\n",
       "      <td>31968.0</td>\n",
       "      <td>European</td>\n",
       "      <td>NaN</td>\n",
       "      <td>33875891.0</td>\n",
       "    </tr>\n",
       "    <tr>\n",
       "      <th>209809</th>\n",
       "      <td>TAAR1</td>\n",
       "      <td>rs58631849</td>\n",
       "      <td>T</td>\n",
       "      <td>4.999190e-02</td>\n",
       "      <td>-0.033553</td>\n",
       "      <td>0.017118</td>\n",
       "      <td>rfMRI connectivity (ICA100 edge 148)</td>\n",
       "      <td>ubm-b-2576</td>\n",
       "      <td>1.960033</td>\n",
       "      <td>False</td>\n",
       "      <td>31688.0</td>\n",
       "      <td>European</td>\n",
       "      <td>NaN</td>\n",
       "      <td>33875891.0</td>\n",
       "    </tr>\n",
       "    <tr>\n",
       "      <th>209810</th>\n",
       "      <td>TAAR1</td>\n",
       "      <td>rs6902492</td>\n",
       "      <td>A</td>\n",
       "      <td>4.999190e-02</td>\n",
       "      <td>-0.015691</td>\n",
       "      <td>0.008005</td>\n",
       "      <td>aparc-pial_lh_area_caudalanteriorcingulate</td>\n",
       "      <td>ubm-b-718</td>\n",
       "      <td>1.960033</td>\n",
       "      <td>False</td>\n",
       "      <td>31967.0</td>\n",
       "      <td>European</td>\n",
       "      <td>NaN</td>\n",
       "      <td>33875891.0</td>\n",
       "    </tr>\n",
       "    <tr>\n",
       "      <th>...</th>\n",
       "      <td>...</td>\n",
       "      <td>...</td>\n",
       "      <td>...</td>\n",
       "      <td>...</td>\n",
       "      <td>...</td>\n",
       "      <td>...</td>\n",
       "      <td>...</td>\n",
       "      <td>...</td>\n",
       "      <td>...</td>\n",
       "      <td>...</td>\n",
       "      <td>...</td>\n",
       "      <td>...</td>\n",
       "      <td>...</td>\n",
       "      <td>...</td>\n",
       "    </tr>\n",
       "    <tr>\n",
       "      <th>25</th>\n",
       "      <td>TAAR1</td>\n",
       "      <td>rs12660924</td>\n",
       "      <td>G</td>\n",
       "      <td>3.273410e-310</td>\n",
       "      <td>-0.548118</td>\n",
       "      <td>0.012044</td>\n",
       "      <td>ENSG00000112299</td>\n",
       "      <td>eqtl-a-ENSG00000112299</td>\n",
       "      <td>37.649986</td>\n",
       "      <td>True</td>\n",
       "      <td>31470.0</td>\n",
       "      <td>European</td>\n",
       "      <td>NaN</td>\n",
       "      <td>NaN</td>\n",
       "    </tr>\n",
       "    <tr>\n",
       "      <th>24</th>\n",
       "      <td>TAAR1</td>\n",
       "      <td>rs9389024</td>\n",
       "      <td>G</td>\n",
       "      <td>3.273410e-310</td>\n",
       "      <td>-0.622627</td>\n",
       "      <td>0.013136</td>\n",
       "      <td>ENSG00000112299</td>\n",
       "      <td>eqtl-a-ENSG00000112299</td>\n",
       "      <td>37.649986</td>\n",
       "      <td>True</td>\n",
       "      <td>31470.0</td>\n",
       "      <td>European</td>\n",
       "      <td>NaN</td>\n",
       "      <td>NaN</td>\n",
       "    </tr>\n",
       "    <tr>\n",
       "      <th>23</th>\n",
       "      <td>TAAR2</td>\n",
       "      <td>rs72987675</td>\n",
       "      <td>T</td>\n",
       "      <td>3.273410e-310</td>\n",
       "      <td>-0.583736</td>\n",
       "      <td>0.011028</td>\n",
       "      <td>ENSG00000112299</td>\n",
       "      <td>eqtl-a-ENSG00000112299</td>\n",
       "      <td>37.649986</td>\n",
       "      <td>True</td>\n",
       "      <td>31470.0</td>\n",
       "      <td>European</td>\n",
       "      <td>NaN</td>\n",
       "      <td>NaN</td>\n",
       "    </tr>\n",
       "    <tr>\n",
       "      <th>22</th>\n",
       "      <td>TAAR2</td>\n",
       "      <td>rs9389015</td>\n",
       "      <td>T</td>\n",
       "      <td>3.273410e-310</td>\n",
       "      <td>-0.525821</td>\n",
       "      <td>0.011090</td>\n",
       "      <td>ENSG00000112299</td>\n",
       "      <td>eqtl-a-ENSG00000112299</td>\n",
       "      <td>37.649986</td>\n",
       "      <td>True</td>\n",
       "      <td>31470.0</td>\n",
       "      <td>European</td>\n",
       "      <td>NaN</td>\n",
       "      <td>NaN</td>\n",
       "    </tr>\n",
       "    <tr>\n",
       "      <th>0</th>\n",
       "      <td>TAAR1</td>\n",
       "      <td>rs62427289</td>\n",
       "      <td>G</td>\n",
       "      <td>3.273410e-310</td>\n",
       "      <td>-0.504605</td>\n",
       "      <td>0.012755</td>\n",
       "      <td>ENSG00000112299</td>\n",
       "      <td>eqtl-a-ENSG00000112299</td>\n",
       "      <td>37.649986</td>\n",
       "      <td>True</td>\n",
       "      <td>31470.0</td>\n",
       "      <td>European</td>\n",
       "      <td>NaN</td>\n",
       "      <td>NaN</td>\n",
       "    </tr>\n",
       "  </tbody>\n",
       "</table>\n",
       "<p>209823 rows × 14 columns</p>\n",
       "</div>"
      ],
      "text/plain": [
       "           gs        rsid ea              p      beta        se  \\\n",
       "209822  TAAR1  rs66672387  A   4.999650e-02 -0.000812  0.000414   \n",
       "209821  TAAR1  rs60038481  T   4.999650e-02 -0.006679  0.003408   \n",
       "209815  TAAR1  rs12660924  G   4.999190e-02 -0.016859  0.008601   \n",
       "209809  TAAR1  rs58631849  T   4.999190e-02 -0.033553  0.017118   \n",
       "209810  TAAR1   rs6902492  A   4.999190e-02 -0.015691  0.008005   \n",
       "...       ...         ... ..            ...       ...       ...   \n",
       "25      TAAR1  rs12660924  G  3.273410e-310 -0.548118  0.012044   \n",
       "24      TAAR1   rs9389024  G  3.273410e-310 -0.622627  0.013136   \n",
       "23      TAAR2  rs72987675  T  3.273410e-310 -0.583736  0.011028   \n",
       "22      TAAR2   rs9389015  T  3.273410e-310 -0.525821  0.011090   \n",
       "0       TAAR1  rs62427289  G  3.273410e-310 -0.504605  0.012755   \n",
       "\n",
       "                                                  trait  \\\n",
       "209822      Diagnoses - main ICD10: G47 Sleep disorders   \n",
       "209821               Victim of physically violent crime   \n",
       "209815  aparc-a2009s_lh_thickness_G-pariet-inf-Supramar   \n",
       "209809             rfMRI connectivity (ICA100 edge 148)   \n",
       "209810       aparc-pial_lh_area_caudalanteriorcingulate   \n",
       "...                                                 ...   \n",
       "25                                      ENSG00000112299   \n",
       "24                                      ENSG00000112299   \n",
       "23                                      ENSG00000112299   \n",
       "22                                      ENSG00000112299   \n",
       "0                                       ENSG00000112299   \n",
       "\n",
       "                            id          z  is_gene_trait  sample_size  \\\n",
       "209822               ukb-a-527   1.959994          False     337199.0   \n",
       "209821             ukb-d-20529   1.959994          False     117846.0   \n",
       "209815              ubm-b-1203   1.960033          False      31968.0   \n",
       "209809              ubm-b-2576   1.960033          False      31688.0   \n",
       "209810               ubm-b-718   1.960033          False      31967.0   \n",
       "...                        ...        ...            ...          ...   \n",
       "25      eqtl-a-ENSG00000112299  37.649986           True      31470.0   \n",
       "24      eqtl-a-ENSG00000112299  37.649986           True      31470.0   \n",
       "23      eqtl-a-ENSG00000112299  37.649986           True      31470.0   \n",
       "22      eqtl-a-ENSG00000112299  37.649986           True      31470.0   \n",
       "0       eqtl-a-ENSG00000112299  37.649986           True      31470.0   \n",
       "\n",
       "       population subcategory        pmid  \n",
       "209822   European         NaN         NaN  \n",
       "209821   European         NaN         NaN  \n",
       "209815   European         NaN  33875891.0  \n",
       "209809   European         NaN  33875891.0  \n",
       "209810   European         NaN  33875891.0  \n",
       "...           ...         ...         ...  \n",
       "25       European         NaN         NaN  \n",
       "24       European         NaN         NaN  \n",
       "23       European         NaN         NaN  \n",
       "22       European         NaN         NaN  \n",
       "0        European         NaN         NaN  \n",
       "\n",
       "[209823 rows x 14 columns]"
      ]
     },
     "execution_count": 4,
     "metadata": {},
     "output_type": "execute_result"
    }
   ],
   "source": [
    "data"
   ]
  },
  {
   "cell_type": "code",
   "execution_count": 7,
   "metadata": {},
   "outputs": [],
   "source": [
    "fdata=data.copy()\n",
    "countdata=pd.DataFrame(fdata['subcategory'].value_counts()).reset_index().rename(columns={'index':'subcategory','subcategory':'hit_count'})"
   ]
  },
  {
   "cell_type": "code",
   "execution_count": 10,
   "metadata": {},
   "outputs": [
    {
     "data": {
      "application/vnd.plotly.v1+json": {
       "config": {
        "plotlyServerURL": "https://plot.ly"
       },
       "data": [
        {
         "type": "bar",
         "x": [
          "Psychiatric / neurological",
          "Protein",
          "Cancer",
          "Lipid",
          "Unknown metabolite",
          "Amino acid",
          "Fatty acid",
          "Anthropometric",
          "Immune cell subset frequency",
          "Autoimmune / inflammatory",
          "Peptide",
          "Diabetes",
          "Aging",
          "Cardiovascular",
          "Education",
          "Keto acid",
          "Carbohydrate",
          "Immune cell-surface protein expression levels",
          "Other",
          "Cofactors and vitamins",
          "Bone",
          "Nucleotide",
          "Behavioural",
          "Metabolites ratio",
          "Xenobiotics",
          "Immune system",
          "Energy",
          "Lung disease",
          "Glycemic",
          "Haemotological",
          "Blood pressure",
          "Hormone",
          "Kidney",
          "Biomarker",
          "Metal",
          "Sleeping",
          "Reproductive aging",
          "Hemodynamic",
          "Paediatric disease",
          "Metabolite salt",
          "Personality"
         ],
         "y": [
          24174,
          22461,
          1040,
          705,
          491,
          310,
          260,
          227,
          168,
          120,
          70,
          63,
          56,
          54,
          53,
          48,
          42,
          37,
          32,
          31,
          30,
          30,
          28,
          27,
          25,
          24,
          24,
          21,
          19,
          19,
          16,
          14,
          14,
          11,
          10,
          9,
          6,
          5,
          3,
          1,
          1
         ]
        }
       ],
       "layout": {
        "template": {
         "data": {
          "bar": [
           {
            "error_x": {
             "color": "rgb(36,36,36)"
            },
            "error_y": {
             "color": "rgb(36,36,36)"
            },
            "marker": {
             "line": {
              "color": "white",
              "width": 0.5
             },
             "pattern": {
              "fillmode": "overlay",
              "size": 10,
              "solidity": 0.2
             }
            },
            "type": "bar"
           }
          ],
          "barpolar": [
           {
            "marker": {
             "line": {
              "color": "white",
              "width": 0.5
             },
             "pattern": {
              "fillmode": "overlay",
              "size": 10,
              "solidity": 0.2
             }
            },
            "type": "barpolar"
           }
          ],
          "carpet": [
           {
            "aaxis": {
             "endlinecolor": "rgb(36,36,36)",
             "gridcolor": "white",
             "linecolor": "white",
             "minorgridcolor": "white",
             "startlinecolor": "rgb(36,36,36)"
            },
            "baxis": {
             "endlinecolor": "rgb(36,36,36)",
             "gridcolor": "white",
             "linecolor": "white",
             "minorgridcolor": "white",
             "startlinecolor": "rgb(36,36,36)"
            },
            "type": "carpet"
           }
          ],
          "choropleth": [
           {
            "colorbar": {
             "outlinewidth": 1,
             "tickcolor": "rgb(36,36,36)",
             "ticks": "outside"
            },
            "type": "choropleth"
           }
          ],
          "contour": [
           {
            "colorbar": {
             "outlinewidth": 1,
             "tickcolor": "rgb(36,36,36)",
             "ticks": "outside"
            },
            "colorscale": [
             [
              0,
              "#440154"
             ],
             [
              0.1111111111111111,
              "#482878"
             ],
             [
              0.2222222222222222,
              "#3e4989"
             ],
             [
              0.3333333333333333,
              "#31688e"
             ],
             [
              0.4444444444444444,
              "#26828e"
             ],
             [
              0.5555555555555556,
              "#1f9e89"
             ],
             [
              0.6666666666666666,
              "#35b779"
             ],
             [
              0.7777777777777778,
              "#6ece58"
             ],
             [
              0.8888888888888888,
              "#b5de2b"
             ],
             [
              1,
              "#fde725"
             ]
            ],
            "type": "contour"
           }
          ],
          "contourcarpet": [
           {
            "colorbar": {
             "outlinewidth": 1,
             "tickcolor": "rgb(36,36,36)",
             "ticks": "outside"
            },
            "type": "contourcarpet"
           }
          ],
          "heatmap": [
           {
            "colorbar": {
             "outlinewidth": 1,
             "tickcolor": "rgb(36,36,36)",
             "ticks": "outside"
            },
            "colorscale": [
             [
              0,
              "#440154"
             ],
             [
              0.1111111111111111,
              "#482878"
             ],
             [
              0.2222222222222222,
              "#3e4989"
             ],
             [
              0.3333333333333333,
              "#31688e"
             ],
             [
              0.4444444444444444,
              "#26828e"
             ],
             [
              0.5555555555555556,
              "#1f9e89"
             ],
             [
              0.6666666666666666,
              "#35b779"
             ],
             [
              0.7777777777777778,
              "#6ece58"
             ],
             [
              0.8888888888888888,
              "#b5de2b"
             ],
             [
              1,
              "#fde725"
             ]
            ],
            "type": "heatmap"
           }
          ],
          "heatmapgl": [
           {
            "colorbar": {
             "outlinewidth": 1,
             "tickcolor": "rgb(36,36,36)",
             "ticks": "outside"
            },
            "colorscale": [
             [
              0,
              "#440154"
             ],
             [
              0.1111111111111111,
              "#482878"
             ],
             [
              0.2222222222222222,
              "#3e4989"
             ],
             [
              0.3333333333333333,
              "#31688e"
             ],
             [
              0.4444444444444444,
              "#26828e"
             ],
             [
              0.5555555555555556,
              "#1f9e89"
             ],
             [
              0.6666666666666666,
              "#35b779"
             ],
             [
              0.7777777777777778,
              "#6ece58"
             ],
             [
              0.8888888888888888,
              "#b5de2b"
             ],
             [
              1,
              "#fde725"
             ]
            ],
            "type": "heatmapgl"
           }
          ],
          "histogram": [
           {
            "marker": {
             "line": {
              "color": "white",
              "width": 0.6
             }
            },
            "type": "histogram"
           }
          ],
          "histogram2d": [
           {
            "colorbar": {
             "outlinewidth": 1,
             "tickcolor": "rgb(36,36,36)",
             "ticks": "outside"
            },
            "colorscale": [
             [
              0,
              "#440154"
             ],
             [
              0.1111111111111111,
              "#482878"
             ],
             [
              0.2222222222222222,
              "#3e4989"
             ],
             [
              0.3333333333333333,
              "#31688e"
             ],
             [
              0.4444444444444444,
              "#26828e"
             ],
             [
              0.5555555555555556,
              "#1f9e89"
             ],
             [
              0.6666666666666666,
              "#35b779"
             ],
             [
              0.7777777777777778,
              "#6ece58"
             ],
             [
              0.8888888888888888,
              "#b5de2b"
             ],
             [
              1,
              "#fde725"
             ]
            ],
            "type": "histogram2d"
           }
          ],
          "histogram2dcontour": [
           {
            "colorbar": {
             "outlinewidth": 1,
             "tickcolor": "rgb(36,36,36)",
             "ticks": "outside"
            },
            "colorscale": [
             [
              0,
              "#440154"
             ],
             [
              0.1111111111111111,
              "#482878"
             ],
             [
              0.2222222222222222,
              "#3e4989"
             ],
             [
              0.3333333333333333,
              "#31688e"
             ],
             [
              0.4444444444444444,
              "#26828e"
             ],
             [
              0.5555555555555556,
              "#1f9e89"
             ],
             [
              0.6666666666666666,
              "#35b779"
             ],
             [
              0.7777777777777778,
              "#6ece58"
             ],
             [
              0.8888888888888888,
              "#b5de2b"
             ],
             [
              1,
              "#fde725"
             ]
            ],
            "type": "histogram2dcontour"
           }
          ],
          "mesh3d": [
           {
            "colorbar": {
             "outlinewidth": 1,
             "tickcolor": "rgb(36,36,36)",
             "ticks": "outside"
            },
            "type": "mesh3d"
           }
          ],
          "parcoords": [
           {
            "line": {
             "colorbar": {
              "outlinewidth": 1,
              "tickcolor": "rgb(36,36,36)",
              "ticks": "outside"
             }
            },
            "type": "parcoords"
           }
          ],
          "pie": [
           {
            "automargin": true,
            "type": "pie"
           }
          ],
          "scatter": [
           {
            "fillpattern": {
             "fillmode": "overlay",
             "size": 10,
             "solidity": 0.2
            },
            "type": "scatter"
           }
          ],
          "scatter3d": [
           {
            "line": {
             "colorbar": {
              "outlinewidth": 1,
              "tickcolor": "rgb(36,36,36)",
              "ticks": "outside"
             }
            },
            "marker": {
             "colorbar": {
              "outlinewidth": 1,
              "tickcolor": "rgb(36,36,36)",
              "ticks": "outside"
             }
            },
            "type": "scatter3d"
           }
          ],
          "scattercarpet": [
           {
            "marker": {
             "colorbar": {
              "outlinewidth": 1,
              "tickcolor": "rgb(36,36,36)",
              "ticks": "outside"
             }
            },
            "type": "scattercarpet"
           }
          ],
          "scattergeo": [
           {
            "marker": {
             "colorbar": {
              "outlinewidth": 1,
              "tickcolor": "rgb(36,36,36)",
              "ticks": "outside"
             }
            },
            "type": "scattergeo"
           }
          ],
          "scattergl": [
           {
            "marker": {
             "colorbar": {
              "outlinewidth": 1,
              "tickcolor": "rgb(36,36,36)",
              "ticks": "outside"
             }
            },
            "type": "scattergl"
           }
          ],
          "scattermapbox": [
           {
            "marker": {
             "colorbar": {
              "outlinewidth": 1,
              "tickcolor": "rgb(36,36,36)",
              "ticks": "outside"
             }
            },
            "type": "scattermapbox"
           }
          ],
          "scatterpolar": [
           {
            "marker": {
             "colorbar": {
              "outlinewidth": 1,
              "tickcolor": "rgb(36,36,36)",
              "ticks": "outside"
             }
            },
            "type": "scatterpolar"
           }
          ],
          "scatterpolargl": [
           {
            "marker": {
             "colorbar": {
              "outlinewidth": 1,
              "tickcolor": "rgb(36,36,36)",
              "ticks": "outside"
             }
            },
            "type": "scatterpolargl"
           }
          ],
          "scatterternary": [
           {
            "marker": {
             "colorbar": {
              "outlinewidth": 1,
              "tickcolor": "rgb(36,36,36)",
              "ticks": "outside"
             }
            },
            "type": "scatterternary"
           }
          ],
          "surface": [
           {
            "colorbar": {
             "outlinewidth": 1,
             "tickcolor": "rgb(36,36,36)",
             "ticks": "outside"
            },
            "colorscale": [
             [
              0,
              "#440154"
             ],
             [
              0.1111111111111111,
              "#482878"
             ],
             [
              0.2222222222222222,
              "#3e4989"
             ],
             [
              0.3333333333333333,
              "#31688e"
             ],
             [
              0.4444444444444444,
              "#26828e"
             ],
             [
              0.5555555555555556,
              "#1f9e89"
             ],
             [
              0.6666666666666666,
              "#35b779"
             ],
             [
              0.7777777777777778,
              "#6ece58"
             ],
             [
              0.8888888888888888,
              "#b5de2b"
             ],
             [
              1,
              "#fde725"
             ]
            ],
            "type": "surface"
           }
          ],
          "table": [
           {
            "cells": {
             "fill": {
              "color": "rgb(237,237,237)"
             },
             "line": {
              "color": "white"
             }
            },
            "header": {
             "fill": {
              "color": "rgb(217,217,217)"
             },
             "line": {
              "color": "white"
             }
            },
            "type": "table"
           }
          ]
         },
         "layout": {
          "annotationdefaults": {
           "arrowhead": 0,
           "arrowwidth": 1
          },
          "autotypenumbers": "strict",
          "coloraxis": {
           "colorbar": {
            "outlinewidth": 1,
            "tickcolor": "rgb(36,36,36)",
            "ticks": "outside"
           }
          },
          "colorscale": {
           "diverging": [
            [
             0,
             "rgb(103,0,31)"
            ],
            [
             0.1,
             "rgb(178,24,43)"
            ],
            [
             0.2,
             "rgb(214,96,77)"
            ],
            [
             0.3,
             "rgb(244,165,130)"
            ],
            [
             0.4,
             "rgb(253,219,199)"
            ],
            [
             0.5,
             "rgb(247,247,247)"
            ],
            [
             0.6,
             "rgb(209,229,240)"
            ],
            [
             0.7,
             "rgb(146,197,222)"
            ],
            [
             0.8,
             "rgb(67,147,195)"
            ],
            [
             0.9,
             "rgb(33,102,172)"
            ],
            [
             1,
             "rgb(5,48,97)"
            ]
           ],
           "sequential": [
            [
             0,
             "#440154"
            ],
            [
             0.1111111111111111,
             "#482878"
            ],
            [
             0.2222222222222222,
             "#3e4989"
            ],
            [
             0.3333333333333333,
             "#31688e"
            ],
            [
             0.4444444444444444,
             "#26828e"
            ],
            [
             0.5555555555555556,
             "#1f9e89"
            ],
            [
             0.6666666666666666,
             "#35b779"
            ],
            [
             0.7777777777777778,
             "#6ece58"
            ],
            [
             0.8888888888888888,
             "#b5de2b"
            ],
            [
             1,
             "#fde725"
            ]
           ],
           "sequentialminus": [
            [
             0,
             "#440154"
            ],
            [
             0.1111111111111111,
             "#482878"
            ],
            [
             0.2222222222222222,
             "#3e4989"
            ],
            [
             0.3333333333333333,
             "#31688e"
            ],
            [
             0.4444444444444444,
             "#26828e"
            ],
            [
             0.5555555555555556,
             "#1f9e89"
            ],
            [
             0.6666666666666666,
             "#35b779"
            ],
            [
             0.7777777777777778,
             "#6ece58"
            ],
            [
             0.8888888888888888,
             "#b5de2b"
            ],
            [
             1,
             "#fde725"
            ]
           ]
          },
          "colorway": [
           "#1F77B4",
           "#FF7F0E",
           "#2CA02C",
           "#D62728",
           "#9467BD",
           "#8C564B",
           "#E377C2",
           "#7F7F7F",
           "#BCBD22",
           "#17BECF"
          ],
          "font": {
           "color": "rgb(36,36,36)"
          },
          "geo": {
           "bgcolor": "white",
           "lakecolor": "white",
           "landcolor": "white",
           "showlakes": true,
           "showland": true,
           "subunitcolor": "white"
          },
          "hoverlabel": {
           "align": "left"
          },
          "hovermode": "closest",
          "mapbox": {
           "style": "light"
          },
          "paper_bgcolor": "white",
          "plot_bgcolor": "white",
          "polar": {
           "angularaxis": {
            "gridcolor": "rgb(232,232,232)",
            "linecolor": "rgb(36,36,36)",
            "showgrid": false,
            "showline": true,
            "ticks": "outside"
           },
           "bgcolor": "white",
           "radialaxis": {
            "gridcolor": "rgb(232,232,232)",
            "linecolor": "rgb(36,36,36)",
            "showgrid": false,
            "showline": true,
            "ticks": "outside"
           }
          },
          "scene": {
           "xaxis": {
            "backgroundcolor": "white",
            "gridcolor": "rgb(232,232,232)",
            "gridwidth": 2,
            "linecolor": "rgb(36,36,36)",
            "showbackground": true,
            "showgrid": false,
            "showline": true,
            "ticks": "outside",
            "zeroline": false,
            "zerolinecolor": "rgb(36,36,36)"
           },
           "yaxis": {
            "backgroundcolor": "white",
            "gridcolor": "rgb(232,232,232)",
            "gridwidth": 2,
            "linecolor": "rgb(36,36,36)",
            "showbackground": true,
            "showgrid": false,
            "showline": true,
            "ticks": "outside",
            "zeroline": false,
            "zerolinecolor": "rgb(36,36,36)"
           },
           "zaxis": {
            "backgroundcolor": "white",
            "gridcolor": "rgb(232,232,232)",
            "gridwidth": 2,
            "linecolor": "rgb(36,36,36)",
            "showbackground": true,
            "showgrid": false,
            "showline": true,
            "ticks": "outside",
            "zeroline": false,
            "zerolinecolor": "rgb(36,36,36)"
           }
          },
          "shapedefaults": {
           "fillcolor": "black",
           "line": {
            "width": 0
           },
           "opacity": 0.3
          },
          "ternary": {
           "aaxis": {
            "gridcolor": "rgb(232,232,232)",
            "linecolor": "rgb(36,36,36)",
            "showgrid": false,
            "showline": true,
            "ticks": "outside"
           },
           "baxis": {
            "gridcolor": "rgb(232,232,232)",
            "linecolor": "rgb(36,36,36)",
            "showgrid": false,
            "showline": true,
            "ticks": "outside"
           },
           "bgcolor": "white",
           "caxis": {
            "gridcolor": "rgb(232,232,232)",
            "linecolor": "rgb(36,36,36)",
            "showgrid": false,
            "showline": true,
            "ticks": "outside"
           }
          },
          "title": {
           "x": 0.05
          },
          "xaxis": {
           "automargin": true,
           "gridcolor": "rgb(232,232,232)",
           "linecolor": "rgb(36,36,36)",
           "showgrid": false,
           "showline": true,
           "ticks": "outside",
           "title": {
            "standoff": 15
           },
           "zeroline": false,
           "zerolinecolor": "rgb(36,36,36)"
          },
          "yaxis": {
           "automargin": true,
           "gridcolor": "rgb(232,232,232)",
           "linecolor": "rgb(36,36,36)",
           "showgrid": false,
           "showline": true,
           "ticks": "outside",
           "title": {
            "standoff": 15
           },
           "zeroline": false,
           "zerolinecolor": "rgb(36,36,36)"
          }
         }
        },
        "title": {
         "text": "Bar Plot Example"
        },
        "xaxis": {
         "title": {
          "text": "Categories"
         }
        },
        "yaxis": {
         "title": {
          "text": "Values"
         }
        }
       }
      }
     },
     "metadata": {},
     "output_type": "display_data"
    }
   ],
   "source": [
    "fig = go.Figure(data=go.Bar(x=countdata['subcategory'], y=countdata['hit_count']))\n",
    "\n",
    "# Customize the layout\n",
    "fig.update_layout(title='GWAS subcategories across all ',\n",
    "                 xaxis_title='Categories',\n",
    "                 yaxis_title='Values')"
   ]
  },
  {
   "cell_type": "code",
   "execution_count": null,
   "metadata": {},
   "outputs": [],
   "source": []
  }
 ],
 "metadata": {
  "kernelspec": {
   "display_name": "phewasdash",
   "language": "python",
   "name": "python3"
  },
  "language_info": {
   "codemirror_mode": {
    "name": "ipython",
    "version": 3
   },
   "file_extension": ".py",
   "mimetype": "text/x-python",
   "name": "python",
   "nbconvert_exporter": "python",
   "pygments_lexer": "ipython3",
   "version": "3.10.13"
  }
 },
 "nbformat": 4,
 "nbformat_minor": 2
}
